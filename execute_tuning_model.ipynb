{
 "cells": [
  {
   "cell_type": "code",
   "execution_count": 6,
   "id": "7ab7099c",
   "metadata": {},
   "outputs": [],
   "source": [
    "from google import genai\n",
    "import base64\n",
    "import os\n",
    "from google.genai import types\n",
    "import mimetypes\n",
    "import cv2\n",
    "import tempfile\n"
   ]
  },
  {
   "cell_type": "code",
   "execution_count": 7,
   "id": "4721bfe6",
   "metadata": {},
   "outputs": [],
   "source": [
    "PROJECT_ID = \"videoanalysis-model\" \n",
    "REGION = \"us-central1\" \n",
    "generate_content_config = types.GenerateContentConfig(\n",
    "    response_mime_type=\"application/json\",\n",
    "    temperature=0.0,\n",
    "    max_output_tokens=8100,\n",
    "    top_p=0.95,\n",
    "    candidate_count=1,\n",
    ")"
   ]
  },
  {
   "cell_type": "code",
   "execution_count": 8,
   "id": "229d9930",
   "metadata": {},
   "outputs": [],
   "source": [
    "client = genai.Client(vertexai=True, project=PROJECT_ID, location=REGION)"
   ]
  },
  {
   "cell_type": "code",
   "execution_count": 9,
   "id": "7804a871",
   "metadata": {},
   "outputs": [],
   "source": [
    "\n",
    "def extract_base64_frames_with_mime(video_path):\n",
    "    cap = cv2.VideoCapture(video_path)\n",
    "    fps = cap.get(cv2.CAP_PROP_FPS)\n",
    "    total_frames = int(cap.get(cv2.CAP_PROP_FRAME_COUNT))\n",
    "    duration = int(total_frames / fps)\n",
    "\n",
    "    image_parts = []\n",
    "\n",
    "    for second in range(duration):\n",
    "        cap.set(cv2.CAP_PROP_POS_MSEC, second * 1000)\n",
    "        success, frame = cap.read()\n",
    "        if not success:\n",
    "            break\n",
    "\n",
    "        # Save frame temporarily to get MIME type\n",
    "        with tempfile.NamedTemporaryFile(suffix=\".jpg\", delete=False) as tmp_file:\n",
    "            temp_filename = tmp_file.name\n",
    "            cv2.imwrite(temp_filename, frame)\n",
    "\n",
    "        # Read and encode the image in base64\n",
    "        with open(temp_filename, \"rb\") as f:\n",
    "            encoded_image = base64.b64encode(f.read()).decode('utf-8')\n",
    "\n",
    "        # Get MIME type\n",
    "        mime_type, _ = mimetypes.guess_type(temp_filename)\n",
    "\n",
    "        # Create parts\n",
    "        image_part = types.Part.from_bytes(\n",
    "            mime_type=mime_type,\n",
    "            data=base64.b64decode(encoded_image)\n",
    "        )\n",
    "\n",
    "        image_parts.append(image_part)\n",
    "\n",
    "        # Remove the temporary file\n",
    "        os.remove(temp_filename)\n",
    "\n",
    "    cap.release()\n",
    "    return image_parts\n"
   ]
  },
  {
   "cell_type": "code",
   "execution_count": 10,
   "id": "e722d52a",
   "metadata": {},
   "outputs": [],
   "source": [
    "with open('./test_prompt.txt', 'r') as file:\n",
    "    selected_prompt = file.read()\n",
    "prompt_part = types.Part.from_text(text=selected_prompt)"
   ]
  },
  {
   "cell_type": "code",
   "execution_count": null,
   "id": "8104a149",
   "metadata": {},
   "outputs": [],
   "source": [
    "# process one video at a time\n",
    "\n",
    "video_path = \"./0_true_positive/trim_videos/2025-05-04_13-56-03-860029_clip_990_part_002.mp4\"\n",
    "image_parts = extract_base64_frames_with_mime(video_path)\n",
    "\n",
    "image_parts.append(prompt_part)\n",
    "# Create content\n",
    "contents = [\n",
    "    types.Content(\n",
    "        role=\"user\",\n",
    "        parts= image_parts ,\n",
    "    ),\n",
    "]\n",
    "\n",
    "response = client.models.generate_content(\n",
    "                model=\"projects/1078720353462/locations/us-central1/endpoints/3754397901762068480\",\n",
    "                contents=contents,\n",
    "                config=generate_content_config,\n",
    "            )\n",
    "\n",
    "print(response.text)"
   ]
  },
  {
   "cell_type": "code",
   "execution_count": 11,
   "id": "21615ca6",
   "metadata": {},
   "outputs": [],
   "source": [
    "# process all videos inside the folder_path\n",
    "\n",
    "folder_path = \"./test/t\"\n",
    "output_file = \"./0_true_positive/result.txt\"\n",
    "# Video file extensions to look for\n",
    "video_extensions = ('.mp4', '.avi', '.mov', '.mkv', '.flv', '.wmv', '.webm')\n",
    "\n",
    "for file in os.listdir(folder_path):\n",
    "    if file.lower().endswith(video_extensions):\n",
    "        video_path = os.path.join(folder_path, file)\n",
    "        image_parts = extract_base64_frames_with_mime(video_path)\n",
    "        image_parts.append(prompt_part)\n",
    "        contents = [\n",
    "            types.Content(\n",
    "                role=\"user\",\n",
    "                parts= image_parts ,\n",
    "            ),\n",
    "        ]\n",
    "        response = client.models.generate_content(\n",
    "                model=\"projects/1078720353462/locations/us-central1/endpoints/3754397901762068480\",\n",
    "                contents=contents,\n",
    "                config=generate_content_config,\n",
    "            )\n",
    "        with open(output_file, 'a') as f:\n",
    "            f.write(video_path + \" -- \\n\" + response.text + '\\n \\n')\n",
    "        "
   ]
  }
 ],
 "metadata": {
  "kernelspec": {
   "display_name": "video_analysis_model",
   "language": "python",
   "name": "python3"
  },
  "language_info": {
   "codemirror_mode": {
    "name": "ipython",
    "version": 3
   },
   "file_extension": ".py",
   "mimetype": "text/x-python",
   "name": "python",
   "nbconvert_exporter": "python",
   "pygments_lexer": "ipython3",
   "version": "3.11.11"
  }
 },
 "nbformat": 4,
 "nbformat_minor": 5
}
