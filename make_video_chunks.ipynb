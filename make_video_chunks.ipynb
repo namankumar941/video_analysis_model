{
 "cells": [
  {
   "cell_type": "code",
   "execution_count": null,
   "id": "6146d70c-aa88-4b92-8a51-ab1374f81167",
   "metadata": {},
   "outputs": [],
   "source": [
    "import os\n",
    "import cv2"
   ]
  },
  {
   "cell_type": "code",
   "execution_count": null,
   "id": "6a312994",
   "metadata": {},
   "outputs": [],
   "source": [
    "def split_video(input_path, output_dir, max_duration_sec=30):\n",
    "    current_part = 1\n",
    "    if not os.path.exists(output_dir):\n",
    "        os.makedirs(output_dir)\n",
    "\n",
    "    cap = cv2.VideoCapture(input_path)\n",
    "    if not cap.isOpened():\n",
    "        print(\"Error: Cannot open video.\")\n",
    "        return\n",
    "\n",
    "    fps = int(cap.get(cv2.CAP_PROP_FPS))\n",
    "    total_frames = int(cap.get(cv2.CAP_PROP_FRAME_COUNT))\n",
    "    duration_sec = total_frames / fps\n",
    "\n",
    "    width = int(cap.get(cv2.CAP_PROP_FRAME_WIDTH))\n",
    "    height = int(cap.get(cv2.CAP_PROP_FRAME_HEIGHT))\n",
    "    fourcc = cv2.VideoWriter_fourcc(*'mp4v')\n",
    "\n",
    "    frames_per_split = max_duration_sec * fps\n",
    "    frame_count = 0\n",
    "\n",
    "    out = None\n",
    "\n",
    "    base_filename = os.path.splitext(os.path.basename(input_path))[0]\n",
    "\n",
    "    while True:\n",
    "        ret, frame = cap.read()\n",
    "        if not ret:\n",
    "            break\n",
    "\n",
    "        if frame_count % frames_per_split == 0:\n",
    "            if out:\n",
    "                out.release()\n",
    "            output_filename = os.path.join(\n",
    "                output_dir,\n",
    "                f\"{base_filename}_part_{current_part:03d}.mp4\"\n",
    "            )\n",
    "            out = cv2.VideoWriter(output_filename, fourcc, fps, (width, height))\n",
    "            current_part += 1\n",
    "\n",
    "        out.write(frame)\n",
    "        frame_count += 1\n",
    "\n",
    "    cap.release()\n",
    "    if out:\n",
    "        out.release()\n",
    "\n",
    "    print(f\"Video split into {current_part - 1} parts of max {max_duration_sec} seconds each.\")\n",
    "\n"
   ]
  },
  {
   "cell_type": "code",
   "execution_count": null,
   "id": "2c166990",
   "metadata": {},
   "outputs": [],
   "source": [
    "# split one video into chunks of 30 sec\n",
    "video_path = \"./0_true_positive/4th_may/2025-05-04_13-56-04-549523_clip_990.mp4\"\n",
    "output_path = \"./test\"\n",
    "split_video(video_path, output_path)"
   ]
  },
  {
   "cell_type": "code",
   "execution_count": null,
   "id": "3a5d0f90",
   "metadata": {},
   "outputs": [],
   "source": [
    "# split all videos in root_dir into chunks of 30 sec\n",
    "root_dir = \"./1_cash_vs_items\"\n",
    "output_path = \"./1_cash_vs_items/trim_videos\"\n",
    "# Video file extensions to look for\n",
    "video_extensions = ('.mp4', '.avi', '.mov', '.mkv', '.flv', '.wmv', '.webm')\n",
    "for dirpath, _, filenames in os.walk(root_dir):\n",
    "    for file in filenames:\n",
    "        if file.lower().endswith(video_extensions):\n",
    "            video_path = os.path.join(dirpath, file)\n",
    "            split_video(video_path, output_path)"
   ]
  }
 ],
 "metadata": {
  "kernelspec": {
   "display_name": "video_analysis_model",
   "language": "python",
   "name": "python3"
  },
  "language_info": {
   "codemirror_mode": {
    "name": "ipython",
    "version": 3
   },
   "file_extension": ".py",
   "mimetype": "text/x-python",
   "name": "python",
   "nbconvert_exporter": "python",
   "pygments_lexer": "ipython3",
   "version": "3.11.11"
  }
 },
 "nbformat": 4,
 "nbformat_minor": 5
}
